{
 "cells": [
  {
   "cell_type": "markdown",
   "metadata": {},
   "source": [
    "# 不平衡样本处理\n",
    "#### By 王升\n",
    "#### 2020.12.10"
   ]
  },
  {
   "cell_type": "code",
   "execution_count": 96,
   "metadata": {},
   "outputs": [],
   "source": [
    "## 导入包\n",
    "import numpy as np\n",
    "import pandas as pd\n",
    "import matplotlib.pyplot as plt\n",
    "import seaborn as sns\n",
    "from sklearn.linear_model import LogisticRegression\n",
    "from sklearn.model_selection import train_test_split\n",
    "from sklearn import metrics\n",
    "from sklearn.metrics import accuracy_score, roc_auc_score, classification_report\n",
    "import imblearn\n",
    "import lightgbm as lgb\n",
    "import warnings\n",
    "warnings.filterwarnings('ignore')\n",
    "import os"
   ]
  },
  {
   "cell_type": "code",
   "execution_count": 97,
   "metadata": {},
   "outputs": [
    {
     "data": {
      "text/html": [
       "<div>\n",
       "<style scoped>\n",
       "    .dataframe tbody tr th:only-of-type {\n",
       "        vertical-align: middle;\n",
       "    }\n",
       "\n",
       "    .dataframe tbody tr th {\n",
       "        vertical-align: top;\n",
       "    }\n",
       "\n",
       "    .dataframe thead th {\n",
       "        text-align: right;\n",
       "    }\n",
       "</style>\n",
       "<table border=\"1\" class=\"dataframe\">\n",
       "  <thead>\n",
       "    <tr style=\"text-align: right;\">\n",
       "      <th></th>\n",
       "      <th>Time</th>\n",
       "      <th>V1</th>\n",
       "      <th>V2</th>\n",
       "      <th>V3</th>\n",
       "      <th>V4</th>\n",
       "      <th>V5</th>\n",
       "      <th>V6</th>\n",
       "      <th>V7</th>\n",
       "      <th>V8</th>\n",
       "      <th>V9</th>\n",
       "      <th>...</th>\n",
       "      <th>V21</th>\n",
       "      <th>V22</th>\n",
       "      <th>V23</th>\n",
       "      <th>V24</th>\n",
       "      <th>V25</th>\n",
       "      <th>V26</th>\n",
       "      <th>V27</th>\n",
       "      <th>V28</th>\n",
       "      <th>Amount</th>\n",
       "      <th>Class</th>\n",
       "    </tr>\n",
       "  </thead>\n",
       "  <tbody>\n",
       "    <tr>\n",
       "      <th>0</th>\n",
       "      <td>0.0</td>\n",
       "      <td>-1.359807</td>\n",
       "      <td>-0.072781</td>\n",
       "      <td>2.536347</td>\n",
       "      <td>1.378155</td>\n",
       "      <td>-0.338321</td>\n",
       "      <td>0.462388</td>\n",
       "      <td>0.239599</td>\n",
       "      <td>0.098698</td>\n",
       "      <td>0.363787</td>\n",
       "      <td>...</td>\n",
       "      <td>-0.018307</td>\n",
       "      <td>0.277838</td>\n",
       "      <td>-0.110474</td>\n",
       "      <td>0.066928</td>\n",
       "      <td>0.128539</td>\n",
       "      <td>-0.189115</td>\n",
       "      <td>0.133558</td>\n",
       "      <td>-0.021053</td>\n",
       "      <td>149.62</td>\n",
       "      <td>0</td>\n",
       "    </tr>\n",
       "    <tr>\n",
       "      <th>1</th>\n",
       "      <td>0.0</td>\n",
       "      <td>1.191857</td>\n",
       "      <td>0.266151</td>\n",
       "      <td>0.166480</td>\n",
       "      <td>0.448154</td>\n",
       "      <td>0.060018</td>\n",
       "      <td>-0.082361</td>\n",
       "      <td>-0.078803</td>\n",
       "      <td>0.085102</td>\n",
       "      <td>-0.255425</td>\n",
       "      <td>...</td>\n",
       "      <td>-0.225775</td>\n",
       "      <td>-0.638672</td>\n",
       "      <td>0.101288</td>\n",
       "      <td>-0.339846</td>\n",
       "      <td>0.167170</td>\n",
       "      <td>0.125895</td>\n",
       "      <td>-0.008983</td>\n",
       "      <td>0.014724</td>\n",
       "      <td>2.69</td>\n",
       "      <td>0</td>\n",
       "    </tr>\n",
       "    <tr>\n",
       "      <th>2</th>\n",
       "      <td>1.0</td>\n",
       "      <td>-1.358354</td>\n",
       "      <td>-1.340163</td>\n",
       "      <td>1.773209</td>\n",
       "      <td>0.379780</td>\n",
       "      <td>-0.503198</td>\n",
       "      <td>1.800499</td>\n",
       "      <td>0.791461</td>\n",
       "      <td>0.247676</td>\n",
       "      <td>-1.514654</td>\n",
       "      <td>...</td>\n",
       "      <td>0.247998</td>\n",
       "      <td>0.771679</td>\n",
       "      <td>0.909412</td>\n",
       "      <td>-0.689281</td>\n",
       "      <td>-0.327642</td>\n",
       "      <td>-0.139097</td>\n",
       "      <td>-0.055353</td>\n",
       "      <td>-0.059752</td>\n",
       "      <td>378.66</td>\n",
       "      <td>0</td>\n",
       "    </tr>\n",
       "    <tr>\n",
       "      <th>3</th>\n",
       "      <td>1.0</td>\n",
       "      <td>-0.966272</td>\n",
       "      <td>-0.185226</td>\n",
       "      <td>1.792993</td>\n",
       "      <td>-0.863291</td>\n",
       "      <td>-0.010309</td>\n",
       "      <td>1.247203</td>\n",
       "      <td>0.237609</td>\n",
       "      <td>0.377436</td>\n",
       "      <td>-1.387024</td>\n",
       "      <td>...</td>\n",
       "      <td>-0.108300</td>\n",
       "      <td>0.005274</td>\n",
       "      <td>-0.190321</td>\n",
       "      <td>-1.175575</td>\n",
       "      <td>0.647376</td>\n",
       "      <td>-0.221929</td>\n",
       "      <td>0.062723</td>\n",
       "      <td>0.061458</td>\n",
       "      <td>123.50</td>\n",
       "      <td>0</td>\n",
       "    </tr>\n",
       "    <tr>\n",
       "      <th>4</th>\n",
       "      <td>2.0</td>\n",
       "      <td>-1.158233</td>\n",
       "      <td>0.877737</td>\n",
       "      <td>1.548718</td>\n",
       "      <td>0.403034</td>\n",
       "      <td>-0.407193</td>\n",
       "      <td>0.095921</td>\n",
       "      <td>0.592941</td>\n",
       "      <td>-0.270533</td>\n",
       "      <td>0.817739</td>\n",
       "      <td>...</td>\n",
       "      <td>-0.009431</td>\n",
       "      <td>0.798278</td>\n",
       "      <td>-0.137458</td>\n",
       "      <td>0.141267</td>\n",
       "      <td>-0.206010</td>\n",
       "      <td>0.502292</td>\n",
       "      <td>0.219422</td>\n",
       "      <td>0.215153</td>\n",
       "      <td>69.99</td>\n",
       "      <td>0</td>\n",
       "    </tr>\n",
       "  </tbody>\n",
       "</table>\n",
       "<p>5 rows × 31 columns</p>\n",
       "</div>"
      ],
      "text/plain": [
       "   Time        V1        V2        V3        V4        V5        V6        V7  \\\n",
       "0   0.0 -1.359807 -0.072781  2.536347  1.378155 -0.338321  0.462388  0.239599   \n",
       "1   0.0  1.191857  0.266151  0.166480  0.448154  0.060018 -0.082361 -0.078803   \n",
       "2   1.0 -1.358354 -1.340163  1.773209  0.379780 -0.503198  1.800499  0.791461   \n",
       "3   1.0 -0.966272 -0.185226  1.792993 -0.863291 -0.010309  1.247203  0.237609   \n",
       "4   2.0 -1.158233  0.877737  1.548718  0.403034 -0.407193  0.095921  0.592941   \n",
       "\n",
       "         V8        V9  ...       V21       V22       V23       V24       V25  \\\n",
       "0  0.098698  0.363787  ... -0.018307  0.277838 -0.110474  0.066928  0.128539   \n",
       "1  0.085102 -0.255425  ... -0.225775 -0.638672  0.101288 -0.339846  0.167170   \n",
       "2  0.247676 -1.514654  ...  0.247998  0.771679  0.909412 -0.689281 -0.327642   \n",
       "3  0.377436 -1.387024  ... -0.108300  0.005274 -0.190321 -1.175575  0.647376   \n",
       "4 -0.270533  0.817739  ... -0.009431  0.798278 -0.137458  0.141267 -0.206010   \n",
       "\n",
       "        V26       V27       V28  Amount  Class  \n",
       "0 -0.189115  0.133558 -0.021053  149.62      0  \n",
       "1  0.125895 -0.008983  0.014724    2.69      0  \n",
       "2 -0.139097 -0.055353 -0.059752  378.66      0  \n",
       "3 -0.221929  0.062723  0.061458  123.50      0  \n",
       "4  0.502292  0.219422  0.215153   69.99      0  \n",
       "\n",
       "[5 rows x 31 columns]"
      ]
     },
     "execution_count": 97,
     "metadata": {},
     "output_type": "execute_result"
    }
   ],
   "source": [
    "## 加载数据\n",
    "data = pd.read_csv('data.csv')\n",
    "data.head()"
   ]
  },
  {
   "cell_type": "code",
   "execution_count": 98,
   "metadata": {},
   "outputs": [
    {
     "data": {
      "text/plain": [
       "(284807, 31)"
      ]
     },
     "execution_count": 98,
     "metadata": {},
     "output_type": "execute_result"
    }
   ],
   "source": [
    "data.shape"
   ]
  },
  {
   "cell_type": "code",
   "execution_count": 99,
   "metadata": {},
   "outputs": [
    {
     "data": {
      "text/plain": [
       "0    284315\n",
       "1       492\n",
       "Name: Class, dtype: int64"
      ]
     },
     "execution_count": 99,
     "metadata": {},
     "output_type": "execute_result"
    }
   ],
   "source": [
    "data['Class'].value_counts()"
   ]
  },
  {
   "cell_type": "markdown",
   "metadata": {},
   "source": [
    "> - **标签Class非常不平衡**"
   ]
  },
  {
   "cell_type": "code",
   "execution_count": 100,
   "metadata": {},
   "outputs": [],
   "source": [
    "## 对变量Amount, Time进行标准化处理\n",
    "from sklearn.preprocessing import StandardScaler\n",
    "sc = StandardScaler()\n",
    "data[['Amount', 'Time']] = sc.fit_transform(data[['Amount', 'Time']])\n",
    "\n",
    "\n",
    "## 切分数据为特征X和标签y\n",
    "features = [col for col in data.columns if col not in ['Class']]\n",
    "X = data[features]\n",
    "y = data['Class']"
   ]
  },
  {
   "cell_type": "code",
   "execution_count": 101,
   "metadata": {},
   "outputs": [
    {
     "name": "stdout",
     "output_type": "stream",
     "text": [
      ">>>直接建模:\n",
      "测试集准确率: 0.9992743700478681\n",
      "测试集AUC: 0.9783592167803621\n",
      "model report:\n",
      "               precision    recall  f1-score   support\n",
      "\n",
      "           0   0.999414  0.999859  0.999637     85307\n",
      "           1   0.877551  0.632353  0.735043       136\n",
      "\n",
      "    accuracy                       0.999274     85443\n",
      "   macro avg   0.938483  0.816106  0.867340     85443\n",
      "weighted avg   0.999220  0.999274  0.999216     85443\n",
      "\n"
     ]
    }
   ],
   "source": [
    "## 忽略不平衡问题，直接LR建模\n",
    "X_train, X_test, y_train, y_test = train_test_split(X, y, test_size=0.3, random_state=42)\n",
    "lr = LogisticRegression()\n",
    "lr.fit(X_train, y_train)\n",
    "y_test_label = lr.predict(X_test)\n",
    "y_test_value = lr.predict_proba(X_test)[:, 1]\n",
    "print('>>>直接建模:')\n",
    "print('测试集准确率:', accuracy_score(y_test, y_test_label))\n",
    "print('测试集AUC:', roc_auc_score(y_test, y_test_value))\n",
    "print('model report:\\n',classification_report(y_test, y_test_label, digits=6))"
   ]
  },
  {
   "cell_type": "markdown",
   "metadata": {},
   "source": [
    "> - **从准确率和AUC来看，效果还不错。但因为样本不平衡，模型的评价指标应选择recall，以recall来衡量，模型效果并不好。**"
   ]
  },
  {
   "cell_type": "code",
   "execution_count": 102,
   "metadata": {},
   "outputs": [
    {
     "name": "stdout",
     "output_type": "stream",
     "text": [
      ">>>RandomUnderSampler欠采样:\n",
      "测试集准确率: 0.9358108108108109\n",
      "测试集AUC: 0.9657077625570777\n",
      "model report:\n",
      "               precision    recall  f1-score   support\n",
      "\n",
      "           0   0.917197  0.960000  0.938111       150\n",
      "           1   0.956835  0.910959  0.933333       146\n",
      "\n",
      "    accuracy                       0.935811       296\n",
      "   macro avg   0.937016  0.935479  0.935722       296\n",
      "weighted avg   0.936748  0.935811  0.935754       296\n",
      "\n"
     ]
    }
   ],
   "source": [
    "## RandomUnderSampler欠采样\n",
    "from imblearn.under_sampling import RandomUnderSampler\n",
    "X_resampled, y_resampled = RandomUnderSampler().fit_sample(X, y)\n",
    "X_train, X_test, y_train, y_test = train_test_split(X_resampled, y_resampled, test_size=0.3, random_state=42)\n",
    "lr = LogisticRegression()\n",
    "lr.fit(X_train, y_train)\n",
    "y_test_pred_label = lr.predict(X_test)\n",
    "y_test_pred_prob = lr.predict_proba(X_test)[:, 1]\n",
    "print('>>>RandomUnderSampler欠采样:')\n",
    "print('测试集准确率:', accuracy_score(y_test, y_test_pred_label))\n",
    "print('测试集AUC:', roc_auc_score(y_test, y_test_pred_prob))\n",
    "print('model report:\\n', classification_report(y_test, y_test_pred_label, digits=6))"
   ]
  },
  {
   "cell_type": "code",
   "execution_count": 103,
   "metadata": {},
   "outputs": [
    {
     "name": "stdout",
     "output_type": "stream",
     "text": [
      ">>>RandomOverSampler过采样:\n",
      "测试集准确率: 0.9497974664251505\n",
      "测试集AUC: 0.9870762850611989\n",
      "model report:\n",
      "               precision    recall  f1-score   support\n",
      "\n",
      "           0   0.926377  0.977075  0.951051     85149\n",
      "           1   0.975836  0.922612  0.948478     85440\n",
      "\n",
      "    accuracy                       0.949797    170589\n",
      "   macro avg   0.951106  0.949844  0.949765    170589\n",
      "weighted avg   0.951149  0.949797  0.949762    170589\n",
      "\n"
     ]
    }
   ],
   "source": [
    "## RandomOverSampler过采样\n",
    "from imblearn.over_sampling import RandomOverSampler\n",
    "X_resampled, y_resampled = RandomOverSampler().fit_sample(X, y)\n",
    "X_train, X_test, y_train, y_test = train_test_split(X_resampled, y_resampled, test_size=0.3, random_state=42)\n",
    "lr = LogisticRegression()\n",
    "lr.fit(X_train, y_train)\n",
    "y_test_pred_label = lr.predict(X_test)\n",
    "y_test_pred_prob = lr.predict_proba(X_test)[:, 1]\n",
    "print('>>>RandomOverSampler过采样:')\n",
    "print('测试集准确率:', accuracy_score(y_test, y_test_pred_label))\n",
    "print('测试集AUC:', roc_auc_score(y_test, y_test_pred_prob))\n",
    "print('model report:\\n', classification_report(y_test, y_test_pred_label, digits=6))"
   ]
  },
  {
   "cell_type": "code",
   "execution_count": 104,
   "metadata": {},
   "outputs": [
    {
     "name": "stdout",
     "output_type": "stream",
     "text": [
      ">>>SMOTE过采样:\n",
      "测试集准确率: 0.9481033360884934\n",
      "测试集AUC: 0.9893424847347345\n",
      "model report:\n",
      "               precision    recall  f1-score   support\n",
      "\n",
      "           0   0.924716  0.975443  0.949402     85149\n",
      "           1   0.974111  0.920857  0.946736     85440\n",
      "\n",
      "    accuracy                       0.948103    170589\n",
      "   macro avg   0.949414  0.948150  0.948069    170589\n",
      "weighted avg   0.949456  0.948103  0.948067    170589\n",
      "\n"
     ]
    }
   ],
   "source": [
    "## SMOTE过采样\n",
    "from imblearn.over_sampling import SMOTE\n",
    "X_resampled, y_resampled = SMOTE().fit_sample(X, y)\n",
    "X_train, X_test, y_train, y_test = train_test_split(X_resampled, y_resampled, test_size=0.3, random_state=42)\n",
    "lr = LogisticRegression()\n",
    "lr.fit(X_train, y_train)\n",
    "y_test_pred_label = lr.predict(X_test)\n",
    "y_test_pred_prob = lr.predict_proba(X_test)[:, 1]\n",
    "print('>>>SMOTE过采样:')\n",
    "print('测试集准确率:', accuracy_score(y_test, y_test_pred_label))\n",
    "print('测试集AUC:', roc_auc_score(y_test, y_test_pred_prob))\n",
    "print('model report:\\n', classification_report(y_test, y_test_pred_label, digits=6))"
   ]
  },
  {
   "cell_type": "code",
   "execution_count": 105,
   "metadata": {},
   "outputs": [
    {
     "name": "stdout",
     "output_type": "stream",
     "text": [
      ">>>ADASYN过采样:\n",
      "测试集准确率: 0.8877347042857897\n",
      "测试集AUC: 0.9599110613849913\n",
      "model report:\n",
      "               precision    recall  f1-score   support\n",
      "\n",
      "           0   0.874156  0.905547  0.889574     85185\n",
      "           1   0.902287  0.869968  0.885833     85402\n",
      "\n",
      "    accuracy                       0.887735    170587\n",
      "   macro avg   0.888221  0.887757  0.887704    170587\n",
      "weighted avg   0.888239  0.887735  0.887701    170587\n",
      "\n"
     ]
    }
   ],
   "source": [
    "## ADASYN过采样\n",
    "from imblearn.over_sampling import ADASYN\n",
    "X_resampled, y_resampled = ADASYN().fit_sample(X, y)\n",
    "X_train, X_test, y_train, y_test = train_test_split(X_resampled, y_resampled, test_size=0.3, random_state=42)\n",
    "lr = LogisticRegression()\n",
    "lr.fit(X_train, y_train)\n",
    "y_test_pred_label = lr.predict(X_test)\n",
    "y_test_pred_prob = lr.predict_proba(X_test)[:, 1]\n",
    "print('>>>ADASYN过采样:')\n",
    "print('测试集准确率:', accuracy_score(y_test, y_test_pred_label))\n",
    "print('测试集AUC:', roc_auc_score(y_test, y_test_pred_prob))\n",
    "print('model report:\\n', classification_report(y_test, y_test_pred_label, digits=6))"
   ]
  },
  {
   "cell_type": "code",
   "execution_count": 106,
   "metadata": {},
   "outputs": [
    {
     "name": "stdout",
     "output_type": "stream",
     "text": [
      ">>>RandomOverSampler过采样 + LightGBM:\n",
      "测试集准确率: 0.9998475868901278\n",
      "测试集AUC: 0.9999708499389459\n",
      "model report:\n",
      "               precision    recall  f1-score   support\n",
      "\n",
      "           0   1.000000  0.999695  0.999847     85149\n",
      "           1   0.999696  1.000000  0.999848     85440\n",
      "\n",
      "    accuracy                       0.999848    170589\n",
      "   macro avg   0.999848  0.999847  0.999848    170589\n",
      "weighted avg   0.999848  0.999848  0.999848    170589\n",
      "\n"
     ]
    }
   ],
   "source": [
    "## RandomOverSampler过采样 + LightGBM\n",
    "from imblearn.over_sampling import RandomOverSampler\n",
    "X_resampled, y_resampled = RandomOverSampler().fit_sample(X, y)\n",
    "X_train, X_test, y_train, y_test = train_test_split(X_resampled, y_resampled, test_size=0.3, random_state=42)\n",
    "clf_lgb = lgb.LGBMClassifier(class_weight='balanced')\n",
    "clf_lgb.fit(X_train, y_train)\n",
    "y_test_pred_label = clf_lgb.predict(X_test)\n",
    "y_test_pred_prob = clf_lgb.predict_proba(X_test)[:, 1]\n",
    "print('>>>RandomOverSampler过采样 + LightGBM:')\n",
    "print('测试集准确率:', accuracy_score(y_test, y_test_pred_label))\n",
    "print('测试集AUC:', roc_auc_score(y_test, y_test_pred_prob))\n",
    "print('model report:\\n', classification_report(y_test, y_test_pred_label, digits=6))"
   ]
  },
  {
   "cell_type": "code",
   "execution_count": 107,
   "metadata": {},
   "outputs": [
    {
     "name": "stdout",
     "output_type": "stream",
     "text": [
      ">>>SMOTE过采样 + LightGBM:\n",
      "测试集准确率: 0.9991969001518269\n",
      "测试集AUC: 0.9999643125304957\n",
      "model report:\n",
      "               precision    recall  f1-score   support\n",
      "\n",
      "           0   0.999988  0.998403  0.999195     85149\n",
      "           1   0.998411  0.999988  0.999199     85440\n",
      "\n",
      "    accuracy                       0.999197    170589\n",
      "   macro avg   0.999199  0.999196  0.999197    170589\n",
      "weighted avg   0.999198  0.999197  0.999197    170589\n",
      "\n"
     ]
    }
   ],
   "source": [
    "## SMOTE过采样 + LightGBM\n",
    "from imblearn.over_sampling import SMOTE\n",
    "X_resampled, y_resampled = SMOTE().fit_sample(X, y)\n",
    "X_train, X_test, y_train, y_test = train_test_split(X_resampled, y_resampled, test_size=0.3, random_state=42)\n",
    "clf_lgb = lgb.LGBMClassifier(class_weight='balanced')\n",
    "clf_lgb.fit(X_train, y_train)\n",
    "y_test_pred_label = clf_lgb.predict(X_test)\n",
    "y_test_pred_prob = clf_lgb.predict_proba(X_test)[:, 1]\n",
    "print('>>>SMOTE过采样 + LightGBM:')\n",
    "print('测试集准确率:', accuracy_score(y_test, y_test_pred_label))\n",
    "print('测试集AUC:', roc_auc_score(y_test, y_test_pred_prob))\n",
    "print('model report:\\n', classification_report(y_test, y_test_pred_label, digits=6))"
   ]
  },
  {
   "cell_type": "markdown",
   "metadata": {},
   "source": [
    "### 小结\n",
    "- 使用欠采样或过采样方法后，指标recall会有明显的提升\n",
    "- 过采样优于欠采样\n",
    "- (过采样 + LGB模型)效果很好\n",
    "- 实际应用时，可进一步调节采样方法的参数以及模型的参数，以使得结果更好"
   ]
  }
 ],
 "metadata": {
  "kernelspec": {
   "display_name": "Python 3",
   "language": "python",
   "name": "python3"
  },
  "language_info": {
   "codemirror_mode": {
    "name": "ipython",
    "version": 3
   },
   "file_extension": ".py",
   "mimetype": "text/x-python",
   "name": "python",
   "nbconvert_exporter": "python",
   "pygments_lexer": "ipython3",
   "version": "3.8.5"
  }
 },
 "nbformat": 4,
 "nbformat_minor": 2
}
