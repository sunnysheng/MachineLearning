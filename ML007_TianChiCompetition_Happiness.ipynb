{
 "cells": [
  {
   "cell_type": "markdown",
   "metadata": {},
   "source": [
    "# 天池大赛-快来一起挖掘幸福感\n",
    "#### By 王升\n",
    "#### 2020.12.24"
   ]
  },
  {
   "cell_type": "markdown",
   "metadata": {},
   "source": [
    "#### 赛题与数据：https://tianchi.aliyun.com/competition/entrance/231702/information"
   ]
  },
  {
   "cell_type": "code",
   "execution_count": 1,
   "metadata": {},
   "outputs": [],
   "source": [
    "# 导入库函数\n",
    "import numpy as np\n",
    "import pandas as pd\n",
    "import matplotlib.pyplot as plt\n",
    "import seaborn as sns\n",
    "import warnings\n",
    "warnings.filterwarnings('ignore')\n",
    "%matplotlib inline"
   ]
  },
  {
   "cell_type": "markdown",
   "metadata": {},
   "source": [
    "## 1 数据处理及探索"
   ]
  },
  {
   "cell_type": "code",
   "execution_count": 2,
   "metadata": {},
   "outputs": [],
   "source": [
    "# 读取数据\n",
    "data_train = pd.read_csv('happiness_train_abbr.csv')\n",
    "data_test = pd.read_csv('happiness_test_abbr.csv')"
   ]
  },
  {
   "cell_type": "code",
   "execution_count": 3,
   "metadata": {},
   "outputs": [
    {
     "name": "stdout",
     "output_type": "stream",
     "text": [
      "data_train shape: (8000, 42)\n",
      "data_test shape: (2968, 41)\n"
     ]
    }
   ],
   "source": [
    "# 查看数据大小\n",
    "print('data_train shape:', data_train.shape)\n",
    "print('data_test shape:', data_test.shape)"
   ]
  },
  {
   "cell_type": "code",
   "execution_count": 4,
   "metadata": {},
   "outputs": [
    {
     "data": {
      "text/html": [
       "<div>\n",
       "<style scoped>\n",
       "    .dataframe tbody tr th:only-of-type {\n",
       "        vertical-align: middle;\n",
       "    }\n",
       "\n",
       "    .dataframe tbody tr th {\n",
       "        vertical-align: top;\n",
       "    }\n",
       "\n",
       "    .dataframe thead th {\n",
       "        text-align: right;\n",
       "    }\n",
       "</style>\n",
       "<table border=\"1\" class=\"dataframe\">\n",
       "  <thead>\n",
       "    <tr style=\"text-align: right;\">\n",
       "      <th></th>\n",
       "      <th>id</th>\n",
       "      <th>happiness</th>\n",
       "      <th>survey_type</th>\n",
       "      <th>province</th>\n",
       "      <th>city</th>\n",
       "      <th>county</th>\n",
       "      <th>survey_time</th>\n",
       "      <th>gender</th>\n",
       "      <th>birth</th>\n",
       "      <th>nationality</th>\n",
       "      <th>...</th>\n",
       "      <th>family_income</th>\n",
       "      <th>family_m</th>\n",
       "      <th>family_status</th>\n",
       "      <th>house</th>\n",
       "      <th>car</th>\n",
       "      <th>marital</th>\n",
       "      <th>status_peer</th>\n",
       "      <th>status_3_before</th>\n",
       "      <th>view</th>\n",
       "      <th>inc_ability</th>\n",
       "    </tr>\n",
       "  </thead>\n",
       "  <tbody>\n",
       "    <tr>\n",
       "      <th>0</th>\n",
       "      <td>1</td>\n",
       "      <td>4</td>\n",
       "      <td>1</td>\n",
       "      <td>12</td>\n",
       "      <td>32</td>\n",
       "      <td>59</td>\n",
       "      <td>2015/8/4 14:18</td>\n",
       "      <td>1</td>\n",
       "      <td>1959</td>\n",
       "      <td>1</td>\n",
       "      <td>...</td>\n",
       "      <td>60000.0</td>\n",
       "      <td>2</td>\n",
       "      <td>2</td>\n",
       "      <td>1</td>\n",
       "      <td>2</td>\n",
       "      <td>3</td>\n",
       "      <td>3</td>\n",
       "      <td>2</td>\n",
       "      <td>4</td>\n",
       "      <td>3</td>\n",
       "    </tr>\n",
       "    <tr>\n",
       "      <th>1</th>\n",
       "      <td>2</td>\n",
       "      <td>4</td>\n",
       "      <td>2</td>\n",
       "      <td>18</td>\n",
       "      <td>52</td>\n",
       "      <td>85</td>\n",
       "      <td>2015/7/21 15:04</td>\n",
       "      <td>1</td>\n",
       "      <td>1992</td>\n",
       "      <td>1</td>\n",
       "      <td>...</td>\n",
       "      <td>40000.0</td>\n",
       "      <td>3</td>\n",
       "      <td>4</td>\n",
       "      <td>1</td>\n",
       "      <td>2</td>\n",
       "      <td>1</td>\n",
       "      <td>1</td>\n",
       "      <td>1</td>\n",
       "      <td>4</td>\n",
       "      <td>2</td>\n",
       "    </tr>\n",
       "    <tr>\n",
       "      <th>2</th>\n",
       "      <td>3</td>\n",
       "      <td>4</td>\n",
       "      <td>2</td>\n",
       "      <td>29</td>\n",
       "      <td>83</td>\n",
       "      <td>126</td>\n",
       "      <td>2015/7/21 13:24</td>\n",
       "      <td>2</td>\n",
       "      <td>1967</td>\n",
       "      <td>1</td>\n",
       "      <td>...</td>\n",
       "      <td>8000.0</td>\n",
       "      <td>3</td>\n",
       "      <td>3</td>\n",
       "      <td>1</td>\n",
       "      <td>2</td>\n",
       "      <td>3</td>\n",
       "      <td>2</td>\n",
       "      <td>1</td>\n",
       "      <td>4</td>\n",
       "      <td>2</td>\n",
       "    </tr>\n",
       "    <tr>\n",
       "      <th>3</th>\n",
       "      <td>4</td>\n",
       "      <td>5</td>\n",
       "      <td>2</td>\n",
       "      <td>10</td>\n",
       "      <td>28</td>\n",
       "      <td>51</td>\n",
       "      <td>2015/7/25 17:33</td>\n",
       "      <td>2</td>\n",
       "      <td>1943</td>\n",
       "      <td>1</td>\n",
       "      <td>...</td>\n",
       "      <td>12000.0</td>\n",
       "      <td>3</td>\n",
       "      <td>3</td>\n",
       "      <td>1</td>\n",
       "      <td>1</td>\n",
       "      <td>7</td>\n",
       "      <td>2</td>\n",
       "      <td>1</td>\n",
       "      <td>3</td>\n",
       "      <td>2</td>\n",
       "    </tr>\n",
       "    <tr>\n",
       "      <th>4</th>\n",
       "      <td>5</td>\n",
       "      <td>4</td>\n",
       "      <td>1</td>\n",
       "      <td>7</td>\n",
       "      <td>18</td>\n",
       "      <td>36</td>\n",
       "      <td>2015/8/10 9:50</td>\n",
       "      <td>2</td>\n",
       "      <td>1994</td>\n",
       "      <td>1</td>\n",
       "      <td>...</td>\n",
       "      <td>-2.0</td>\n",
       "      <td>4</td>\n",
       "      <td>3</td>\n",
       "      <td>1</td>\n",
       "      <td>1</td>\n",
       "      <td>1</td>\n",
       "      <td>3</td>\n",
       "      <td>2</td>\n",
       "      <td>3</td>\n",
       "      <td>-8</td>\n",
       "    </tr>\n",
       "  </tbody>\n",
       "</table>\n",
       "<p>5 rows × 42 columns</p>\n",
       "</div>"
      ],
      "text/plain": [
       "   id  happiness  survey_type  province  city  county      survey_time  \\\n",
       "0   1          4            1        12    32      59   2015/8/4 14:18   \n",
       "1   2          4            2        18    52      85  2015/7/21 15:04   \n",
       "2   3          4            2        29    83     126  2015/7/21 13:24   \n",
       "3   4          5            2        10    28      51  2015/7/25 17:33   \n",
       "4   5          4            1         7    18      36   2015/8/10 9:50   \n",
       "\n",
       "   gender  birth  nationality     ...       family_income  family_m  \\\n",
       "0       1   1959            1     ...             60000.0         2   \n",
       "1       1   1992            1     ...             40000.0         3   \n",
       "2       2   1967            1     ...              8000.0         3   \n",
       "3       2   1943            1     ...             12000.0         3   \n",
       "4       2   1994            1     ...                -2.0         4   \n",
       "\n",
       "   family_status  house  car  marital  status_peer  status_3_before  view  \\\n",
       "0              2      1    2        3            3                2     4   \n",
       "1              4      1    2        1            1                1     4   \n",
       "2              3      1    2        3            2                1     4   \n",
       "3              3      1    1        7            2                1     3   \n",
       "4              3      1    1        1            3                2     3   \n",
       "\n",
       "   inc_ability  \n",
       "0            3  \n",
       "1            2  \n",
       "2            2  \n",
       "3            2  \n",
       "4           -8  \n",
       "\n",
       "[5 rows x 42 columns]"
      ]
     },
     "execution_count": 4,
     "metadata": {},
     "output_type": "execute_result"
    }
   ],
   "source": [
    "# 简要浏览数据\n",
    "data_train.head()"
   ]
  },
  {
   "cell_type": "code",
   "execution_count": 5,
   "metadata": {},
   "outputs": [
    {
     "name": "stdout",
     "output_type": "stream",
     "text": [
      "<class 'pandas.core.frame.DataFrame'>\n",
      "RangeIndex: 8000 entries, 0 to 7999\n",
      "Data columns (total 42 columns):\n",
      "id                 8000 non-null int64\n",
      "happiness          8000 non-null int64\n",
      "survey_type        8000 non-null int64\n",
      "province           8000 non-null int64\n",
      "city               8000 non-null int64\n",
      "county             8000 non-null int64\n",
      "survey_time        8000 non-null object\n",
      "gender             8000 non-null int64\n",
      "birth              8000 non-null int64\n",
      "nationality        8000 non-null int64\n",
      "religion           8000 non-null int64\n",
      "religion_freq      8000 non-null int64\n",
      "edu                8000 non-null int64\n",
      "income             8000 non-null int64\n",
      "political          8000 non-null int64\n",
      "floor_area         8000 non-null float64\n",
      "height_cm          8000 non-null int64\n",
      "weight_jin         8000 non-null int64\n",
      "health             8000 non-null int64\n",
      "health_problem     8000 non-null int64\n",
      "depression         8000 non-null int64\n",
      "hukou              8000 non-null int64\n",
      "socialize          8000 non-null int64\n",
      "relax              8000 non-null int64\n",
      "learn              8000 non-null int64\n",
      "equity             8000 non-null int64\n",
      "class              8000 non-null int64\n",
      "work_exper         8000 non-null int64\n",
      "work_status        2951 non-null float64\n",
      "work_yr            2951 non-null float64\n",
      "work_type          2951 non-null float64\n",
      "work_manage        2951 non-null float64\n",
      "family_income      7999 non-null float64\n",
      "family_m           8000 non-null int64\n",
      "family_status      8000 non-null int64\n",
      "house              8000 non-null int64\n",
      "car                8000 non-null int64\n",
      "marital            8000 non-null int64\n",
      "status_peer        8000 non-null int64\n",
      "status_3_before    8000 non-null int64\n",
      "view               8000 non-null int64\n",
      "inc_ability        8000 non-null int64\n",
      "dtypes: float64(6), int64(35), object(1)\n",
      "memory usage: 2.6+ MB\n"
     ]
    }
   ],
   "source": [
    "# 查看数据信息\n",
    "data_train.info()"
   ]
  },
  {
   "cell_type": "markdown",
   "metadata": {},
   "source": [
    "> - **数据类型只有 survey_time 为 object**\n",
    "> - **有几个字段存在空值，需要处理**"
   ]
  },
  {
   "cell_type": "code",
   "execution_count": 6,
   "metadata": {},
   "outputs": [
    {
     "data": {
      "text/html": [
       "<div>\n",
       "<style scoped>\n",
       "    .dataframe tbody tr th:only-of-type {\n",
       "        vertical-align: middle;\n",
       "    }\n",
       "\n",
       "    .dataframe tbody tr th {\n",
       "        vertical-align: top;\n",
       "    }\n",
       "\n",
       "    .dataframe thead th {\n",
       "        text-align: right;\n",
       "    }\n",
       "</style>\n",
       "<table border=\"1\" class=\"dataframe\">\n",
       "  <thead>\n",
       "    <tr style=\"text-align: right;\">\n",
       "      <th></th>\n",
       "      <th>id</th>\n",
       "      <th>happiness</th>\n",
       "      <th>survey_type</th>\n",
       "      <th>province</th>\n",
       "      <th>city</th>\n",
       "      <th>county</th>\n",
       "      <th>gender</th>\n",
       "      <th>birth</th>\n",
       "      <th>nationality</th>\n",
       "      <th>religion</th>\n",
       "      <th>...</th>\n",
       "      <th>family_income</th>\n",
       "      <th>family_m</th>\n",
       "      <th>family_status</th>\n",
       "      <th>house</th>\n",
       "      <th>car</th>\n",
       "      <th>marital</th>\n",
       "      <th>status_peer</th>\n",
       "      <th>status_3_before</th>\n",
       "      <th>view</th>\n",
       "      <th>inc_ability</th>\n",
       "    </tr>\n",
       "  </thead>\n",
       "  <tbody>\n",
       "    <tr>\n",
       "      <th>count</th>\n",
       "      <td>8000.00000</td>\n",
       "      <td>8000.000000</td>\n",
       "      <td>8000.000000</td>\n",
       "      <td>8000.000000</td>\n",
       "      <td>8000.000000</td>\n",
       "      <td>8000.000000</td>\n",
       "      <td>8000.00000</td>\n",
       "      <td>8000.000000</td>\n",
       "      <td>8000.00000</td>\n",
       "      <td>8000.000000</td>\n",
       "      <td>...</td>\n",
       "      <td>7.999000e+03</td>\n",
       "      <td>8000.000000</td>\n",
       "      <td>8000.000000</td>\n",
       "      <td>8000.000000</td>\n",
       "      <td>8000.000000</td>\n",
       "      <td>8000.000000</td>\n",
       "      <td>8000.000000</td>\n",
       "      <td>8000.000000</td>\n",
       "      <td>8000.00000</td>\n",
       "      <td>8000.000000</td>\n",
       "    </tr>\n",
       "    <tr>\n",
       "      <th>mean</th>\n",
       "      <td>4000.50000</td>\n",
       "      <td>3.850125</td>\n",
       "      <td>1.405500</td>\n",
       "      <td>15.155375</td>\n",
       "      <td>42.564750</td>\n",
       "      <td>70.619000</td>\n",
       "      <td>1.53000</td>\n",
       "      <td>1964.707625</td>\n",
       "      <td>1.37350</td>\n",
       "      <td>0.772250</td>\n",
       "      <td>...</td>\n",
       "      <td>6.776050e+04</td>\n",
       "      <td>2.882500</td>\n",
       "      <td>2.595875</td>\n",
       "      <td>1.063625</td>\n",
       "      <td>1.817125</td>\n",
       "      <td>3.234375</td>\n",
       "      <td>2.226125</td>\n",
       "      <td>1.702500</td>\n",
       "      <td>3.30350</td>\n",
       "      <td>1.094875</td>\n",
       "    </tr>\n",
       "    <tr>\n",
       "      <th>std</th>\n",
       "      <td>2309.54541</td>\n",
       "      <td>0.938228</td>\n",
       "      <td>0.491019</td>\n",
       "      <td>8.917100</td>\n",
       "      <td>27.187404</td>\n",
       "      <td>38.747503</td>\n",
       "      <td>0.49913</td>\n",
       "      <td>16.842865</td>\n",
       "      <td>1.52882</td>\n",
       "      <td>1.071459</td>\n",
       "      <td>...</td>\n",
       "      <td>2.909591e+05</td>\n",
       "      <td>1.521835</td>\n",
       "      <td>1.077011</td>\n",
       "      <td>0.789402</td>\n",
       "      <td>0.511825</td>\n",
       "      <td>1.423182</td>\n",
       "      <td>0.971525</td>\n",
       "      <td>0.976147</td>\n",
       "      <td>1.98132</td>\n",
       "      <td>3.410180</td>\n",
       "    </tr>\n",
       "    <tr>\n",
       "      <th>min</th>\n",
       "      <td>1.00000</td>\n",
       "      <td>-8.000000</td>\n",
       "      <td>1.000000</td>\n",
       "      <td>1.000000</td>\n",
       "      <td>1.000000</td>\n",
       "      <td>1.000000</td>\n",
       "      <td>1.00000</td>\n",
       "      <td>1921.000000</td>\n",
       "      <td>-8.00000</td>\n",
       "      <td>-8.000000</td>\n",
       "      <td>...</td>\n",
       "      <td>-3.000000e+00</td>\n",
       "      <td>-3.000000</td>\n",
       "      <td>-8.000000</td>\n",
       "      <td>-3.000000</td>\n",
       "      <td>-8.000000</td>\n",
       "      <td>1.000000</td>\n",
       "      <td>-8.000000</td>\n",
       "      <td>-8.000000</td>\n",
       "      <td>-8.00000</td>\n",
       "      <td>-8.000000</td>\n",
       "    </tr>\n",
       "    <tr>\n",
       "      <th>25%</th>\n",
       "      <td>2000.75000</td>\n",
       "      <td>4.000000</td>\n",
       "      <td>1.000000</td>\n",
       "      <td>7.000000</td>\n",
       "      <td>18.000000</td>\n",
       "      <td>37.000000</td>\n",
       "      <td>1.00000</td>\n",
       "      <td>1952.000000</td>\n",
       "      <td>1.00000</td>\n",
       "      <td>1.000000</td>\n",
       "      <td>...</td>\n",
       "      <td>1.300000e+04</td>\n",
       "      <td>2.000000</td>\n",
       "      <td>2.000000</td>\n",
       "      <td>1.000000</td>\n",
       "      <td>2.000000</td>\n",
       "      <td>3.000000</td>\n",
       "      <td>2.000000</td>\n",
       "      <td>1.000000</td>\n",
       "      <td>3.00000</td>\n",
       "      <td>2.000000</td>\n",
       "    </tr>\n",
       "    <tr>\n",
       "      <th>50%</th>\n",
       "      <td>4000.50000</td>\n",
       "      <td>4.000000</td>\n",
       "      <td>1.000000</td>\n",
       "      <td>15.000000</td>\n",
       "      <td>42.000000</td>\n",
       "      <td>73.000000</td>\n",
       "      <td>2.00000</td>\n",
       "      <td>1965.000000</td>\n",
       "      <td>1.00000</td>\n",
       "      <td>1.000000</td>\n",
       "      <td>...</td>\n",
       "      <td>3.800000e+04</td>\n",
       "      <td>3.000000</td>\n",
       "      <td>3.000000</td>\n",
       "      <td>1.000000</td>\n",
       "      <td>2.000000</td>\n",
       "      <td>3.000000</td>\n",
       "      <td>2.000000</td>\n",
       "      <td>2.000000</td>\n",
       "      <td>4.00000</td>\n",
       "      <td>2.000000</td>\n",
       "    </tr>\n",
       "    <tr>\n",
       "      <th>75%</th>\n",
       "      <td>6000.25000</td>\n",
       "      <td>4.000000</td>\n",
       "      <td>2.000000</td>\n",
       "      <td>22.000000</td>\n",
       "      <td>65.000000</td>\n",
       "      <td>104.000000</td>\n",
       "      <td>2.00000</td>\n",
       "      <td>1977.000000</td>\n",
       "      <td>1.00000</td>\n",
       "      <td>1.000000</td>\n",
       "      <td>...</td>\n",
       "      <td>7.000000e+04</td>\n",
       "      <td>4.000000</td>\n",
       "      <td>3.000000</td>\n",
       "      <td>1.000000</td>\n",
       "      <td>2.000000</td>\n",
       "      <td>3.000000</td>\n",
       "      <td>3.000000</td>\n",
       "      <td>2.000000</td>\n",
       "      <td>4.00000</td>\n",
       "      <td>3.000000</td>\n",
       "    </tr>\n",
       "    <tr>\n",
       "      <th>max</th>\n",
       "      <td>8000.00000</td>\n",
       "      <td>5.000000</td>\n",
       "      <td>2.000000</td>\n",
       "      <td>31.000000</td>\n",
       "      <td>89.000000</td>\n",
       "      <td>134.000000</td>\n",
       "      <td>2.00000</td>\n",
       "      <td>1997.000000</td>\n",
       "      <td>8.00000</td>\n",
       "      <td>1.000000</td>\n",
       "      <td>...</td>\n",
       "      <td>9.999992e+06</td>\n",
       "      <td>50.000000</td>\n",
       "      <td>5.000000</td>\n",
       "      <td>30.000000</td>\n",
       "      <td>2.000000</td>\n",
       "      <td>7.000000</td>\n",
       "      <td>3.000000</td>\n",
       "      <td>3.000000</td>\n",
       "      <td>5.00000</td>\n",
       "      <td>4.000000</td>\n",
       "    </tr>\n",
       "  </tbody>\n",
       "</table>\n",
       "<p>8 rows × 41 columns</p>\n",
       "</div>"
      ],
      "text/plain": [
       "               id    happiness  survey_type     province         city  \\\n",
       "count  8000.00000  8000.000000  8000.000000  8000.000000  8000.000000   \n",
       "mean   4000.50000     3.850125     1.405500    15.155375    42.564750   \n",
       "std    2309.54541     0.938228     0.491019     8.917100    27.187404   \n",
       "min       1.00000    -8.000000     1.000000     1.000000     1.000000   \n",
       "25%    2000.75000     4.000000     1.000000     7.000000    18.000000   \n",
       "50%    4000.50000     4.000000     1.000000    15.000000    42.000000   \n",
       "75%    6000.25000     4.000000     2.000000    22.000000    65.000000   \n",
       "max    8000.00000     5.000000     2.000000    31.000000    89.000000   \n",
       "\n",
       "            county      gender        birth  nationality     religion  \\\n",
       "count  8000.000000  8000.00000  8000.000000   8000.00000  8000.000000   \n",
       "mean     70.619000     1.53000  1964.707625      1.37350     0.772250   \n",
       "std      38.747503     0.49913    16.842865      1.52882     1.071459   \n",
       "min       1.000000     1.00000  1921.000000     -8.00000    -8.000000   \n",
       "25%      37.000000     1.00000  1952.000000      1.00000     1.000000   \n",
       "50%      73.000000     2.00000  1965.000000      1.00000     1.000000   \n",
       "75%     104.000000     2.00000  1977.000000      1.00000     1.000000   \n",
       "max     134.000000     2.00000  1997.000000      8.00000     1.000000   \n",
       "\n",
       "          ...       family_income     family_m  family_status        house  \\\n",
       "count     ...        7.999000e+03  8000.000000    8000.000000  8000.000000   \n",
       "mean      ...        6.776050e+04     2.882500       2.595875     1.063625   \n",
       "std       ...        2.909591e+05     1.521835       1.077011     0.789402   \n",
       "min       ...       -3.000000e+00    -3.000000      -8.000000    -3.000000   \n",
       "25%       ...        1.300000e+04     2.000000       2.000000     1.000000   \n",
       "50%       ...        3.800000e+04     3.000000       3.000000     1.000000   \n",
       "75%       ...        7.000000e+04     4.000000       3.000000     1.000000   \n",
       "max       ...        9.999992e+06    50.000000       5.000000    30.000000   \n",
       "\n",
       "               car      marital  status_peer  status_3_before        view  \\\n",
       "count  8000.000000  8000.000000  8000.000000      8000.000000  8000.00000   \n",
       "mean      1.817125     3.234375     2.226125         1.702500     3.30350   \n",
       "std       0.511825     1.423182     0.971525         0.976147     1.98132   \n",
       "min      -8.000000     1.000000    -8.000000        -8.000000    -8.00000   \n",
       "25%       2.000000     3.000000     2.000000         1.000000     3.00000   \n",
       "50%       2.000000     3.000000     2.000000         2.000000     4.00000   \n",
       "75%       2.000000     3.000000     3.000000         2.000000     4.00000   \n",
       "max       2.000000     7.000000     3.000000         3.000000     5.00000   \n",
       "\n",
       "       inc_ability  \n",
       "count  8000.000000  \n",
       "mean      1.094875  \n",
       "std       3.410180  \n",
       "min      -8.000000  \n",
       "25%       2.000000  \n",
       "50%       2.000000  \n",
       "75%       3.000000  \n",
       "max       4.000000  \n",
       "\n",
       "[8 rows x 41 columns]"
      ]
     },
     "execution_count": 6,
     "metadata": {},
     "output_type": "execute_result"
    }
   ],
   "source": [
    "# 查看数据基本的统计描述\n",
    "data_train.describe()"
   ]
  },
  {
   "cell_type": "code",
   "execution_count": 7,
   "metadata": {},
   "outputs": [
    {
     "data": {
      "text/plain": [
       " 4    0.602250\n",
       " 5    0.176250\n",
       " 3    0.144875\n",
       " 2    0.062125\n",
       " 1    0.013000\n",
       "-8    0.001500\n",
       "Name: happiness, dtype: float64"
      ]
     },
     "execution_count": 7,
     "metadata": {},
     "output_type": "execute_result"
    }
   ],
   "source": [
    "# 查看标签分布\n",
    "pd.value_counts(data_train['happiness'], normalize=True)"
   ]
  },
  {
   "cell_type": "markdown",
   "metadata": {},
   "source": [
    "> - **标签是多分类**\n",
    "> - **标签存在无效值 -8，需要剔除**"
   ]
  },
  {
   "cell_type": "code",
   "execution_count": 8,
   "metadata": {},
   "outputs": [],
   "source": [
    "# 剔除无效数据\n",
    "data_train = data_train.loc[(data_train['happiness'] != -8),:]\n",
    "\n",
    "# 剔除空值\n",
    "data_train.dropna(subset=['family_income'], inplace=True)\n",
    "\n",
    "# 填充空值\n",
    "data_train.fillna(-1, inplace=True)"
   ]
  },
  {
   "cell_type": "code",
   "execution_count": 9,
   "metadata": {},
   "outputs": [
    {
     "data": {
      "text/plain": [
       "id                 7987\n",
       "happiness             5\n",
       "survey_type           2\n",
       "province             28\n",
       "city                 85\n",
       "county              130\n",
       "survey_time        7217\n",
       "gender                2\n",
       "birth                77\n",
       "nationality           9\n",
       "religion              3\n",
       "religion_freq        10\n",
       "edu                  15\n",
       "income              329\n",
       "political             5\n",
       "floor_area          398\n",
       "height_cm            56\n",
       "weight_jin          147\n",
       "health                6\n",
       "health_problem        6\n",
       "depression            6\n",
       "hukou                 8\n",
       "socialize             6\n",
       "relax                 6\n",
       "learn                 6\n",
       "equity                6\n",
       "class                11\n",
       "work_exper            6\n",
       "work_status          11\n",
       "work_yr              56\n",
       "work_type             4\n",
       "work_manage           6\n",
       "family_income       387\n",
       "family_m             15\n",
       "family_status         6\n",
       "house                16\n",
       "car                   3\n",
       "marital               7\n",
       "status_peer           4\n",
       "status_3_before       4\n",
       "view                  6\n",
       "inc_ability           5\n",
       "dtype: int64"
      ]
     },
     "execution_count": 9,
     "metadata": {},
     "output_type": "execute_result"
    }
   ],
   "source": [
    "# 查看每个字段的取值种类数\n",
    "data_train.nunique()"
   ]
  },
  {
   "cell_type": "markdown",
   "metadata": {},
   "source": [
    "> **注意到连续变量： income, floor_area, height_cm, weight_jin, family_income, birth, work_yr**"
   ]
  },
  {
   "cell_type": "code",
   "execution_count": 10,
   "metadata": {},
   "outputs": [],
   "source": [
    "# 剔除列 id, survey_time, \n",
    "X = data_train[[col for col in data_train.columns if col not in ['id', 'survey_time', 'happiness']]]\n",
    "y = data_train['happiness']\n",
    "\n",
    "# 将变量分为分类变量和连续变量\n",
    "continuous_variables = ['income', 'floor_area', 'height_cm', 'weight_jin', 'family_income', 'birth', 'work_yr']\n",
    "categorical_variables = [col for col in X.columns if col not in continuous_variables]"
   ]
  },
  {
   "cell_type": "code",
   "execution_count": 11,
   "metadata": {},
   "outputs": [
    {
     "data": {
      "text/plain": [
       "['income',\n",
       " 'floor_area',\n",
       " 'height_cm',\n",
       " 'weight_jin',\n",
       " 'family_income',\n",
       " 'birth',\n",
       " 'work_yr']"
      ]
     },
     "execution_count": 11,
     "metadata": {},
     "output_type": "execute_result"
    }
   ],
   "source": [
    "continuous_variables"
   ]
  },
  {
   "cell_type": "code",
   "execution_count": 12,
   "metadata": {},
   "outputs": [
    {
     "data": {
      "text/plain": [
       "['survey_type',\n",
       " 'province',\n",
       " 'city',\n",
       " 'county',\n",
       " 'gender',\n",
       " 'nationality',\n",
       " 'religion',\n",
       " 'religion_freq',\n",
       " 'edu',\n",
       " 'political',\n",
       " 'health',\n",
       " 'health_problem',\n",
       " 'depression',\n",
       " 'hukou',\n",
       " 'socialize',\n",
       " 'relax',\n",
       " 'learn',\n",
       " 'equity',\n",
       " 'class',\n",
       " 'work_exper',\n",
       " 'work_status',\n",
       " 'work_type',\n",
       " 'work_manage',\n",
       " 'family_m',\n",
       " 'family_status',\n",
       " 'house',\n",
       " 'car',\n",
       " 'marital',\n",
       " 'status_peer',\n",
       " 'status_3_before',\n",
       " 'view',\n",
       " 'inc_ability']"
      ]
     },
     "execution_count": 12,
     "metadata": {},
     "output_type": "execute_result"
    }
   ],
   "source": [
    "categorical_variables"
   ]
  },
  {
   "cell_type": "markdown",
   "metadata": {},
   "source": [
    "## 2 模型训练"
   ]
  },
  {
   "cell_type": "code",
   "execution_count": 13,
   "metadata": {},
   "outputs": [],
   "source": [
    "# 导入模型工具包\n",
    "from sklearn.model_selection import train_test_split, GridSearchCV\n",
    "from sklearn.metrics import mean_squared_error\n",
    "from sklearn.preprocessing import StandardScaler\n",
    "import lightgbm as lgb\n",
    "from lightgbm import LGBMClassifier\n",
    "from lightgbm import LGBMRegressor\n",
    "from sklearn.ensemble import RandomForestRegressor\n",
    "from sklearn.ensemble import RandomForestClassifier"
   ]
  },
  {
   "cell_type": "code",
   "execution_count": 14,
   "metadata": {},
   "outputs": [],
   "source": [
    "# 连续变量标准化\n",
    "X[continuous_variables] = StandardScaler().fit_transform(X[continuous_variables])\n",
    "\n",
    "# 分类变量类别化\n",
    "X[categorical_variables] = X[categorical_variables].astype('category')\n",
    "\n",
    "# 拆分训练集和测试集\n",
    "X_train, X_val, y_train, y_val = train_test_split(X, y, test_size=0.3, random_state=42)"
   ]
  },
  {
   "cell_type": "code",
   "execution_count": 15,
   "metadata": {},
   "outputs": [
    {
     "name": "stdout",
     "output_type": "stream",
     "text": [
      "测试集MSE_lgb： 0.5389117656886442\n"
     ]
    }
   ],
   "source": [
    "# LGB\n",
    "clf_lgb = LGBMRegressor(num_leaves=2**7, learning_rate=0.1, class_weight='balanced', n_estimators=200, random_state=42, metric='l2')\n",
    "clf_lgb.fit(X_train, y_train)\n",
    "y_val_pred_lgb = clf_lgb.predict(X_val)\n",
    "MSE_lgb = mean_squared_error(y_val, y_val_pred_lgb)\n",
    "print('测试集MSE_lgb：', MSE_lgb)"
   ]
  },
  {
   "cell_type": "code",
   "execution_count": 16,
   "metadata": {},
   "outputs": [
    {
     "name": "stdout",
     "output_type": "stream",
     "text": [
      "测试集MSE_rf： 0.47903041437766386\n"
     ]
    }
   ],
   "source": [
    "# 随机森林\n",
    "clf_rf = RandomForestRegressor(n_estimators=200, max_depth=7, n_jobs=-1, random_state=42)\n",
    "clf_rf.fit(X_train, y_train)\n",
    "y_val_pred_rf = clf_rf.predict(X_val)\n",
    "MSE_rf = mean_squared_error(y_val, y_val_pred_rf)\n",
    "print('测试集MSE_rf：', MSE_rf)"
   ]
  },
  {
   "cell_type": "code",
   "execution_count": 17,
   "metadata": {},
   "outputs": [
    {
     "name": "stdout",
     "output_type": "stream",
     "text": [
      "测试集MSE_weighted： 0.46939692899217894\n"
     ]
    }
   ],
   "source": [
    "# 模型融合\n",
    "y_val_pred_weighted = (1 - MSE_lgb/(MSE_lgb + MSE_rf)) * y_val_pred_lgb + (1 - MSE_rf/(MSE_lgb + MSE_rf)) * y_val_pred_rf\n",
    "MSE_weighted = mean_squared_error(y_val, y_val_pred_weighted)\n",
    "print('测试集MSE_weighted：', MSE_weighted)"
   ]
  },
  {
   "cell_type": "code",
   "execution_count": 18,
   "metadata": {},
   "outputs": [
    {
     "data": {
      "text/plain": [
       "(array([  9.,  15.,  48., 103., 210., 416., 605., 710., 251.,  30.]),\n",
       " array([1.93811   , 2.23652393, 2.53493785, 2.83335177, 3.13176569,\n",
       "        3.43017961, 3.72859354, 4.02700746, 4.32542138, 4.6238353 ,\n",
       "        4.92224922]),\n",
       " <a list of 10 Patch objects>)"
      ]
     },
     "execution_count": 18,
     "metadata": {},
     "output_type": "execute_result"
    },
    {
     "data": {
      "image/png": "[encoded data removed]",
      "text/plain": [
       "<Figure size 432x288 with 1 Axes>"
      ]
     },
     "metadata": {
      "needs_background": "light"
     },
     "output_type": "display_data"
    }
   ],
   "source": [
    "plt.hist(y_val_pred_weighted)"
   ]
  },
  {
   "cell_type": "markdown",
   "metadata": {},
   "source": [
    "## 3 预测"
   ]
  },
  {
   "cell_type": "code",
   "execution_count": 19,
   "metadata": {},
   "outputs": [
    {
     "name": "stdout",
     "output_type": "stream",
     "text": [
      "<class 'pandas.core.frame.DataFrame'>\n",
      "RangeIndex: 2968 entries, 0 to 2967\n",
      "Data columns (total 41 columns):\n",
      "id                 2968 non-null int64\n",
      "survey_type        2968 non-null int64\n",
      "province           2968 non-null int64\n",
      "city               2968 non-null int64\n",
      "county             2968 non-null int64\n",
      "survey_time        2968 non-null object\n",
      "gender             2968 non-null int64\n",
      "birth              2968 non-null int64\n",
      "nationality        2968 non-null int64\n",
      "religion           2968 non-null int64\n",
      "religion_freq      2968 non-null int64\n",
      "edu                2968 non-null int64\n",
      "income             2968 non-null int64\n",
      "political          2968 non-null int64\n",
      "floor_area         2968 non-null float64\n",
      "height_cm          2968 non-null int64\n",
      "weight_jin         2968 non-null int64\n",
      "health             2968 non-null int64\n",
      "health_problem     2968 non-null int64\n",
      "depression         2968 non-null int64\n",
      "hukou              2968 non-null int64\n",
      "socialize          2968 non-null int64\n",
      "relax              2968 non-null int64\n",
      "learn              2968 non-null int64\n",
      "equity             2968 non-null int64\n",
      "class              2968 non-null int64\n",
      "work_exper         2968 non-null int64\n",
      "work_status        1078 non-null float64\n",
      "work_yr            1078 non-null float64\n",
      "work_type          1079 non-null float64\n",
      "work_manage        1079 non-null float64\n",
      "family_income      2968 non-null int64\n",
      "family_m           2968 non-null int64\n",
      "family_status      2968 non-null int64\n",
      "house              2968 non-null int64\n",
      "car                2968 non-null int64\n",
      "marital            2968 non-null int64\n",
      "status_peer        2968 non-null int64\n",
      "status_3_before    2968 non-null int64\n",
      "view               2968 non-null int64\n",
      "inc_ability        2968 non-null int64\n",
      "dtypes: float64(5), int64(35), object(1)\n",
      "memory usage: 950.8+ KB\n"
     ]
    }
   ],
   "source": [
    "# 查看数据描述\n",
    "data_test.info()"
   ]
  },
  {
   "cell_type": "code",
   "execution_count": 20,
   "metadata": {},
   "outputs": [],
   "source": [
    "# 填充空值\n",
    "data_test.fillna(-1, inplace=True)"
   ]
  },
  {
   "cell_type": "code",
   "execution_count": 21,
   "metadata": {},
   "outputs": [],
   "source": [
    "# 剔除列 id, survey_time, \n",
    "X_test = data_test[[col for col in data_test.columns if col not in ['id', 'survey_time', 'happiness']]]\n",
    "\n",
    "# 连续变量标准化\n",
    "X_test[continuous_variables] = StandardScaler().fit_transform(X_test[continuous_variables])\n",
    "\n",
    "# 分类变量类别化\n",
    "X_test[categorical_variables] = X_test[categorical_variables].astype('category')"
   ]
  },
  {
   "cell_type": "code",
   "execution_count": 22,
   "metadata": {},
   "outputs": [],
   "source": [
    "# 预测\n",
    "y_test_pred_lgb = clf_lgb.predict(X_test)\n",
    "y_test_pred_rf = clf_rf.predict(X_test)\n",
    "\n",
    "# 模型融合\n",
    "y_test_pred_weighted = (1 - MSE_lgb/(MSE_lgb + MSE_rf)) * y_test_pred_lgb + (1 - MSE_rf/(MSE_lgb + MSE_rf)) * y_test_pred_rf\n",
    "y_test_pred_weighted = np.around(y_test_pred_weighted)"
   ]
  },
  {
   "cell_type": "code",
   "execution_count": 23,
   "metadata": {},
   "outputs": [
    {
     "data": {
      "text/html": [
       "<div>\n",
       "<style scoped>\n",
       "    .dataframe tbody tr th:only-of-type {\n",
       "        vertical-align: middle;\n",
       "    }\n",
       "\n",
       "    .dataframe tbody tr th {\n",
       "        vertical-align: top;\n",
       "    }\n",
       "\n",
       "    .dataframe thead th {\n",
       "        text-align: right;\n",
       "    }\n",
       "</style>\n",
       "<table border=\"1\" class=\"dataframe\">\n",
       "  <thead>\n",
       "    <tr style=\"text-align: right;\">\n",
       "      <th></th>\n",
       "      <th>id</th>\n",
       "      <th>happiness</th>\n",
       "    </tr>\n",
       "  </thead>\n",
       "  <tbody>\n",
       "    <tr>\n",
       "      <th>0</th>\n",
       "      <td>8001</td>\n",
       "      <td>3</td>\n",
       "    </tr>\n",
       "    <tr>\n",
       "      <th>1</th>\n",
       "      <td>8002</td>\n",
       "      <td>3</td>\n",
       "    </tr>\n",
       "    <tr>\n",
       "      <th>2</th>\n",
       "      <td>8003</td>\n",
       "      <td>3</td>\n",
       "    </tr>\n",
       "    <tr>\n",
       "      <th>3</th>\n",
       "      <td>8004</td>\n",
       "      <td>4</td>\n",
       "    </tr>\n",
       "    <tr>\n",
       "      <th>4</th>\n",
       "      <td>8005</td>\n",
       "      <td>3</td>\n",
       "    </tr>\n",
       "  </tbody>\n",
       "</table>\n",
       "</div>"
      ],
      "text/plain": [
       "     id  happiness\n",
       "0  8001          3\n",
       "1  8002          3\n",
       "2  8003          3\n",
       "3  8004          4\n",
       "4  8005          3"
      ]
     },
     "execution_count": 23,
     "metadata": {},
     "output_type": "execute_result"
    }
   ],
   "source": [
    "# 预测结果\n",
    "result = pd.DataFrame()\n",
    "result['id'] = data_test['id']\n",
    "result['happiness'] = y_test_pred_weighted.astype(int)\n",
    "result.head()"
   ]
  },
  {
   "cell_type": "code",
   "execution_count": 24,
   "metadata": {},
   "outputs": [],
   "source": [
    "# 导出预测结果\n",
    "result.to_csv('test_happiness_submit.csv', index=False)"
   ]
  }
 ],
 "metadata": {
  "kernelspec": {
   "display_name": "Python 3",
   "language": "python",
   "name": "python3"
  },
  "language_info": {
   "codemirror_mode": {
    "name": "ipython",
    "version": 3
   },
   "file_extension": ".py",
   "mimetype": "text/x-python",
   "name": "python",
   "nbconvert_exporter": "python",
   "pygments_lexer": "ipython3",
   "version": "3.7.1"
  }
 },
 "nbformat": 4,
 "nbformat_minor": 2
}
